{
 "cells": [
  {
   "cell_type": "code",
   "execution_count": 67,
   "metadata": {},
   "outputs": [],
   "source": [
    "import pandas as pd\n",
    "from datetime import datetime\n",
    "from matplotlib import pyplot as plt\n",
    "from matplotlib.pyplot import figure\n",
    "import numpy as np"
   ]
  },
  {
   "cell_type": "markdown",
   "metadata": {},
   "source": [
    "Dataset Preprocessing"
   ]
  },
  {
   "cell_type": "code",
   "execution_count": 41,
   "metadata": {},
   "outputs": [
    {
     "data": {
      "text/html": [
       "<div>\n",
       "<style scoped>\n",
       "    .dataframe tbody tr th:only-of-type {\n",
       "        vertical-align: middle;\n",
       "    }\n",
       "\n",
       "    .dataframe tbody tr th {\n",
       "        vertical-align: top;\n",
       "    }\n",
       "\n",
       "    .dataframe thead th {\n",
       "        text-align: right;\n",
       "    }\n",
       "</style>\n",
       "<table border=\"1\" class=\"dataframe\">\n",
       "  <thead>\n",
       "    <tr style=\"text-align: right;\">\n",
       "      <th></th>\n",
       "      <th>time</th>\n",
       "      <th>avg</th>\n",
       "      <th>seconds</th>\n",
       "      <th>minutes</th>\n",
       "    </tr>\n",
       "  </thead>\n",
       "  <tbody>\n",
       "    <tr>\n",
       "      <th>0</th>\n",
       "      <td>0:24:42</td>\n",
       "      <td>2:26</td>\n",
       "      <td>1482</td>\n",
       "      <td>24.70</td>\n",
       "    </tr>\n",
       "    <tr>\n",
       "      <th>1</th>\n",
       "      <td>0:28:32</td>\n",
       "      <td>2:49</td>\n",
       "      <td>1712</td>\n",
       "      <td>28.53</td>\n",
       "    </tr>\n",
       "    <tr>\n",
       "      <th>2</th>\n",
       "      <td>0:29:23</td>\n",
       "      <td>2:50</td>\n",
       "      <td>1763</td>\n",
       "      <td>29.38</td>\n",
       "    </tr>\n",
       "    <tr>\n",
       "      <th>3</th>\n",
       "      <td>0:31:46</td>\n",
       "      <td>3:06</td>\n",
       "      <td>1906</td>\n",
       "      <td>31.77</td>\n",
       "    </tr>\n",
       "    <tr>\n",
       "      <th>4</th>\n",
       "      <td>0:32:37</td>\n",
       "      <td>3:12</td>\n",
       "      <td>1957</td>\n",
       "      <td>32.62</td>\n",
       "    </tr>\n",
       "    <tr>\n",
       "      <th>...</th>\n",
       "      <td>...</td>\n",
       "      <td>...</td>\n",
       "      <td>...</td>\n",
       "      <td>...</td>\n",
       "    </tr>\n",
       "    <tr>\n",
       "      <th>95</th>\n",
       "      <td>0:46:06</td>\n",
       "      <td>4:34</td>\n",
       "      <td>2766</td>\n",
       "      <td>46.10</td>\n",
       "    </tr>\n",
       "    <tr>\n",
       "      <th>96</th>\n",
       "      <td>0:46:10</td>\n",
       "      <td>4:33</td>\n",
       "      <td>2770</td>\n",
       "      <td>46.17</td>\n",
       "    </tr>\n",
       "    <tr>\n",
       "      <th>97</th>\n",
       "      <td>0:46:17</td>\n",
       "      <td>4:35</td>\n",
       "      <td>2777</td>\n",
       "      <td>46.28</td>\n",
       "    </tr>\n",
       "    <tr>\n",
       "      <th>98</th>\n",
       "      <td>0:46:17</td>\n",
       "      <td>4:35</td>\n",
       "      <td>2777</td>\n",
       "      <td>46.28</td>\n",
       "    </tr>\n",
       "    <tr>\n",
       "      <th>99</th>\n",
       "      <td>0:46:22</td>\n",
       "      <td>4:34</td>\n",
       "      <td>2782</td>\n",
       "      <td>46.37</td>\n",
       "    </tr>\n",
       "  </tbody>\n",
       "</table>\n",
       "<p>100 rows × 4 columns</p>\n",
       "</div>"
      ],
      "text/plain": [
       "       time   avg  seconds  minutes\n",
       "0   0:24:42  2:26     1482    24.70\n",
       "1   0:28:32  2:49     1712    28.53\n",
       "2   0:29:23  2:50     1763    29.38\n",
       "3   0:31:46  3:06     1906    31.77\n",
       "4   0:32:37  3:12     1957    32.62\n",
       "..      ...   ...      ...      ...\n",
       "95  0:46:06  4:34     2766    46.10\n",
       "96  0:46:10  4:33     2770    46.17\n",
       "97  0:46:17  4:35     2777    46.28\n",
       "98  0:46:17  4:35     2777    46.28\n",
       "99  0:46:22  4:34     2782    46.37\n",
       "\n",
       "[100 rows x 4 columns]"
      ]
     },
     "execution_count": 41,
     "metadata": {},
     "output_type": "execute_result"
    }
   ],
   "source": [
    "results_df = pd.read_csv(\"CorriBicoccaResults.csv\")\n",
    "\n",
    "results_df.head(100)"
   ]
  },
  {
   "cell_type": "code",
   "execution_count": 73,
   "metadata": {},
   "outputs": [
    {
     "data": {
      "image/png": "[encoded data removed]",
      "text/plain": [
       "<Figure size 1080x576 with 1 Axes>"
      ]
     },
     "metadata": {},
     "output_type": "display_data"
    }
   ],
   "source": [
    "n, bins, patches = plt.hist(x=results_df[\"minutes\"], bins='auto', color='r',\n",
    "                            alpha=0.7, rwidth=0.85)\n",
    "plt.xlabel(\"Minutes\")\n",
    "plt.ylabel(\"Frequency\")\n",
    "plt.title(\"Results Distribution\")\n",
    "\n",
    "plt.grid(axis='y', alpha=0.75)\n",
    "\n",
    "_ = plt.xlim(xmax=90)\n",
    "_ = plt.ylim(ymax=70)\n",
    "\n",
    "# plot dimensions\n",
    "fig = plt.gcf()\n",
    "fig.set_size_inches(15, 8)\n"
   ]
  }
 ],
 "metadata": {
  "kernelspec": {
   "display_name": "Python 3.10.2 ('venv': venv)",
   "language": "python",
   "name": "python3"
  },
  "language_info": {
   "codemirror_mode": {
    "name": "ipython",
    "version": 3
   },
   "file_extension": ".py",
   "mimetype": "text/x-python",
   "name": "python",
   "nbconvert_exporter": "python",
   "pygments_lexer": "ipython3",
   "version": "3.10.2"
  },
  "orig_nbformat": 4,
  "vscode": {
   "interpreter": {
    "hash": "85199266c7da249d8252d635bc74c5b22e194ef0e56b2acc80d69ac6cfc67dcc"
   }
  }
 },
 "nbformat": 4,
 "nbformat_minor": 2
}
